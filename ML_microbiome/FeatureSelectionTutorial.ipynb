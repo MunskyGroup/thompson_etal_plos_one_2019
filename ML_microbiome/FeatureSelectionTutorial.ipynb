{
 "cells": [
  {
   "cell_type": "markdown",
   "metadata": {},
   "source": [
    "# Feature Selection with Random Forest, Neural Network, and Indicator Species analysis "
   ]
  },
  {
   "cell_type": "markdown",
   "metadata": {},
   "source": [
    "To begin, import the Pandas library for importing data and the FeatureSelection class from ML_microbiome: "
   ]
  },
  {
   "cell_type": "code",
   "execution_count": 1,
   "metadata": {},
   "outputs": [],
   "source": [
    "import pandas as pd\n",
    "from RFINN import *"
   ]
  },
  {
   "cell_type": "markdown",
   "metadata": {},
   "source": [
    "Import training, testing, and target data as Pandas DataFrames: "
   ]
  },
  {
   "cell_type": "code",
   "execution_count": 2,
   "metadata": {},
   "outputs": [],
   "source": [
    "train_data = pd.read_csv('train_data.csv')\n",
    "test_data = pd.read_csv('test_data.csv')\n",
    "targets = pd.read_csv('DOC_targets.csv')"
   ]
  },
  {
   "cell_type": "markdown",
   "metadata": {},
   "source": [
    "Create a Feature Selection object by calling the FeatureSelection class"
   ]
  },
  {
   "cell_type": "code",
   "execution_count": 3,
   "metadata": {},
   "outputs": [],
   "source": [
    "FS = FeatureSelection(train_data, test_data, targets, rep_seqs=None)"
   ]
  },
  {
   "cell_type": "markdown",
   "metadata": {},
   "source": [
    "Generate a table with feature selection results by calling the FeatureSelectionTable() function: "
   ]
  },
  {
   "cell_type": "code",
   "execution_count": 4,
   "metadata": {},
   "outputs": [
    {
     "name": "stdout",
     "output_type": "stream",
     "text": [
      "1626\n"
     ]
    }
   ],
   "source": [
    "FS_results = FS.FeatureSelectionTable(iterations=100)"
   ]
  },
  {
   "cell_type": "markdown",
   "metadata": {},
   "source": [
    "Display Feature Selection Results! The table is sorted by the Indicator Species stat by default. "
   ]
  },
  {
   "cell_type": "code",
   "execution_count": 5,
   "metadata": {},
   "outputs": [
    {
     "data": {
      "text/html": [
       "<div>\n",
       "<style scoped>\n",
       "    .dataframe tbody tr th:only-of-type {\n",
       "        vertical-align: middle;\n",
       "    }\n",
       "\n",
       "    .dataframe tbody tr th {\n",
       "        vertical-align: top;\n",
       "    }\n",
       "\n",
       "    .dataframe thead th {\n",
       "        text-align: right;\n",
       "    }\n",
       "</style>\n",
       "<table border=\"1\" class=\"dataframe\">\n",
       "  <thead>\n",
       "    <tr style=\"text-align: right;\">\n",
       "      <th></th>\n",
       "      <th>Taxa</th>\n",
       "      <th>RF Importance</th>\n",
       "      <th>NN Importance</th>\n",
       "      <th>IS stat</th>\n",
       "      <th>IS Site Label</th>\n",
       "      <th>IS P value</th>\n",
       "    </tr>\n",
       "  </thead>\n",
       "  <tbody>\n",
       "    <tr>\n",
       "      <th>70</th>\n",
       "      <td>OTU_55</td>\n",
       "      <td>0.040002</td>\n",
       "      <td>-1.000000</td>\n",
       "      <td>0.825024</td>\n",
       "      <td>Low</td>\n",
       "      <td>0.0</td>\n",
       "    </tr>\n",
       "    <tr>\n",
       "      <th>11</th>\n",
       "      <td>OTU_12</td>\n",
       "      <td>1.000000</td>\n",
       "      <td>-0.804448</td>\n",
       "      <td>0.806841</td>\n",
       "      <td>Low</td>\n",
       "      <td>0.0</td>\n",
       "    </tr>\n",
       "    <tr>\n",
       "      <th>45</th>\n",
       "      <td>OTU_24</td>\n",
       "      <td>0.078487</td>\n",
       "      <td>0.464293</td>\n",
       "      <td>0.781167</td>\n",
       "      <td>High</td>\n",
       "      <td>0.0</td>\n",
       "    </tr>\n",
       "    <tr>\n",
       "      <th>41</th>\n",
       "      <td>OTU_23</td>\n",
       "      <td>0.035522</td>\n",
       "      <td>-0.431913</td>\n",
       "      <td>0.776977</td>\n",
       "      <td>Low</td>\n",
       "      <td>0.0</td>\n",
       "    </tr>\n",
       "    <tr>\n",
       "      <th>22</th>\n",
       "      <td>OTU_16</td>\n",
       "      <td>0.020683</td>\n",
       "      <td>0.525271</td>\n",
       "      <td>0.775166</td>\n",
       "      <td>High</td>\n",
       "      <td>0.0</td>\n",
       "    </tr>\n",
       "    <tr>\n",
       "      <th>75</th>\n",
       "      <td>OTU_6</td>\n",
       "      <td>0.029984</td>\n",
       "      <td>-0.695110</td>\n",
       "      <td>0.771662</td>\n",
       "      <td>Low</td>\n",
       "      <td>0.0</td>\n",
       "    </tr>\n",
       "    <tr>\n",
       "      <th>53</th>\n",
       "      <td>OTU_30</td>\n",
       "      <td>0.007029</td>\n",
       "      <td>0.575680</td>\n",
       "      <td>0.758244</td>\n",
       "      <td>High</td>\n",
       "      <td>0.0</td>\n",
       "    </tr>\n",
       "    <tr>\n",
       "      <th>64</th>\n",
       "      <td>OTU_401</td>\n",
       "      <td>0.019087</td>\n",
       "      <td>-0.320964</td>\n",
       "      <td>0.757483</td>\n",
       "      <td>Low</td>\n",
       "      <td>0.0</td>\n",
       "    </tr>\n",
       "    <tr>\n",
       "      <th>59</th>\n",
       "      <td>OTU_38</td>\n",
       "      <td>0.011762</td>\n",
       "      <td>-0.433335</td>\n",
       "      <td>0.756098</td>\n",
       "      <td>Low</td>\n",
       "      <td>0.0</td>\n",
       "    </tr>\n",
       "    <tr>\n",
       "      <th>69</th>\n",
       "      <td>OTU_534</td>\n",
       "      <td>0.026571</td>\n",
       "      <td>0.741913</td>\n",
       "      <td>0.755964</td>\n",
       "      <td>High</td>\n",
       "      <td>0.0</td>\n",
       "    </tr>\n",
       "  </tbody>\n",
       "</table>\n",
       "</div>"
      ],
      "text/plain": [
       "       Taxa  RF Importance  NN Importance   IS stat IS Site Label  IS P value\n",
       "70   OTU_55       0.040002      -1.000000  0.825024           Low         0.0\n",
       "11   OTU_12       1.000000      -0.804448  0.806841           Low         0.0\n",
       "45   OTU_24       0.078487       0.464293  0.781167          High         0.0\n",
       "41   OTU_23       0.035522      -0.431913  0.776977           Low         0.0\n",
       "22   OTU_16       0.020683       0.525271  0.775166          High         0.0\n",
       "75    OTU_6       0.029984      -0.695110  0.771662           Low         0.0\n",
       "53   OTU_30       0.007029       0.575680  0.758244          High         0.0\n",
       "64  OTU_401       0.019087      -0.320964  0.757483           Low         0.0\n",
       "59   OTU_38       0.011762      -0.433335  0.756098           Low         0.0\n",
       "69  OTU_534       0.026571       0.741913  0.755964          High         0.0"
      ]
     },
     "execution_count": 5,
     "metadata": {},
     "output_type": "execute_result"
    }
   ],
   "source": [
    "FS_results.head(10)"
   ]
  },
  {
   "cell_type": "markdown",
   "metadata": {},
   "source": [
    "Feature selection values determined by the neural network and random forest are scaled from 0 to 1.\n",
    "\n",
    "Feature Selection results generally agree across methods, and correlations determined by the neural network (sign of feature importance) matches perfectly with Indicator Species site labels (Low or High) \n",
    "\n",
    "The feature selection table can be saved to a .csv file by calling the .to_csv() method \n",
    "\n",
    "FS_results.to_csv('myFeatureSelectionResults.csv') "
   ]
  }
 ],
 "metadata": {
  "kernelspec": {
   "display_name": "Python 3",
   "language": "python",
   "name": "python3"
  },
  "language_info": {
   "codemirror_mode": {
    "name": "ipython",
    "version": 3
   },
   "file_extension": ".py",
   "mimetype": "text/x-python",
   "name": "python",
   "nbconvert_exporter": "python",
   "pygments_lexer": "ipython3",
   "version": "3.5.4"
  }
 },
 "nbformat": 4,
 "nbformat_minor": 2
}
