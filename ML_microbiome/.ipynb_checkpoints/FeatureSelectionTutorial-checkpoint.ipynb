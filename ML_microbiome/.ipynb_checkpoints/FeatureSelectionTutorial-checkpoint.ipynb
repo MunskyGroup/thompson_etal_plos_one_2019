{
 "cells": [
  {
   "cell_type": "markdown",
   "metadata": {},
   "source": [
    "# Feature Selection with Random Forest, Neural Network, and Indicator Species analysis "
   ]
  },
  {
   "cell_type": "markdown",
   "metadata": {},
   "source": [
    "To begin, import the Pandas library for importing data and the FeatureSelection class from ML_microbiome: "
   ]
  },
  {
   "cell_type": "code",
   "execution_count": 1,
   "metadata": {},
   "outputs": [],
   "source": [
    "import pandas as pd\n",
    "from RFINN import *"
   ]
  },
  {
   "cell_type": "markdown",
   "metadata": {},
   "source": [
    "Import training, testing, and target data as Pandas DataFrames: "
   ]
  },
  {
   "cell_type": "code",
   "execution_count": 2,
   "metadata": {},
   "outputs": [],
   "source": [
    "train_data = pd.read_csv('train_data.csv')\n",
    "test_data = pd.read_csv('test_data.csv')\n",
    "targets = pd.read_csv('DOC_targets.csv')"
   ]
  },
  {
   "cell_type": "markdown",
   "metadata": {},
   "source": [
    "If available, load representative sequences file. This file should have OTU names in the first column and representative sequences in the second column "
   ]
  },
  {
   "cell_type": "code",
   "execution_count": 3,
   "metadata": {},
   "outputs": [],
   "source": [
    "rep_seqs = pd.read_csv(\"rep_sequences.csv\")"
   ]
  },
  {
   "cell_type": "markdown",
   "metadata": {},
   "source": [
    "Create a Feature Selection object by calling the FeatureSelection class"
   ]
  },
  {
   "cell_type": "code",
   "execution_count": 4,
   "metadata": {},
   "outputs": [],
   "source": [
    "FS = FeatureSelection(train_data, test_data, targets, rep_seqs=None)"
   ]
  },
  {
   "cell_type": "markdown",
   "metadata": {},
   "source": [
    "Generate a table with feature selection results by calling the FeatureSelectionTable() function: "
   ]
  },
  {
   "cell_type": "code",
   "execution_count": 5,
   "metadata": {},
   "outputs": [
    {
     "name": "stdout",
     "output_type": "stream",
     "text": [
      "1626\n"
     ]
    }
   ],
   "source": [
    "FS_results = FS.FeatureSelectionTable(iterations=100)"
   ]
  },
  {
   "cell_type": "markdown",
   "metadata": {},
   "source": [
    "Display Feature Selection Results! The table is sorted by the Indicator Species stat by default. "
   ]
  },
  {
   "cell_type": "code",
   "execution_count": 6,
   "metadata": {},
   "outputs": [
    {
     "data": {
      "text/html": [
       "<div>\n",
       "<style scoped>\n",
       "    .dataframe tbody tr th:only-of-type {\n",
       "        vertical-align: middle;\n",
       "    }\n",
       "\n",
       "    .dataframe tbody tr th {\n",
       "        vertical-align: top;\n",
       "    }\n",
       "\n",
       "    .dataframe thead th {\n",
       "        text-align: right;\n",
       "    }\n",
       "</style>\n",
       "<table border=\"1\" class=\"dataframe\">\n",
       "  <thead>\n",
       "    <tr style=\"text-align: right;\">\n",
       "      <th></th>\n",
       "      <th>Taxa</th>\n",
       "      <th>RF Importance</th>\n",
       "      <th>NN Importance</th>\n",
       "      <th>IS stat</th>\n",
       "      <th>IS Site Label</th>\n",
       "      <th>IS P value</th>\n",
       "      <th>Rep. Sequences</th>\n",
       "    </tr>\n",
       "  </thead>\n",
       "  <tbody>\n",
       "    <tr>\n",
       "      <th>68</th>\n",
       "      <td>OTU_55</td>\n",
       "      <td>0.039361</td>\n",
       "      <td>-1.000000</td>\n",
       "      <td>0.825024</td>\n",
       "      <td>Low</td>\n",
       "      <td>0.0</td>\n",
       "      <td>ATCG</td>\n",
       "    </tr>\n",
       "    <tr>\n",
       "      <th>10</th>\n",
       "      <td>OTU_12</td>\n",
       "      <td>1.000000</td>\n",
       "      <td>-0.815272</td>\n",
       "      <td>0.806841</td>\n",
       "      <td>Low</td>\n",
       "      <td>0.0</td>\n",
       "      <td>ATCG</td>\n",
       "    </tr>\n",
       "    <tr>\n",
       "      <th>44</th>\n",
       "      <td>OTU_24</td>\n",
       "      <td>0.102633</td>\n",
       "      <td>0.434487</td>\n",
       "      <td>0.781167</td>\n",
       "      <td>High</td>\n",
       "      <td>0.0</td>\n",
       "      <td>ATCG</td>\n",
       "    </tr>\n",
       "    <tr>\n",
       "      <th>40</th>\n",
       "      <td>OTU_23</td>\n",
       "      <td>0.028924</td>\n",
       "      <td>-0.453467</td>\n",
       "      <td>0.776977</td>\n",
       "      <td>Low</td>\n",
       "      <td>0.0</td>\n",
       "      <td>ATCG</td>\n",
       "    </tr>\n",
       "    <tr>\n",
       "      <th>21</th>\n",
       "      <td>OTU_16</td>\n",
       "      <td>0.026946</td>\n",
       "      <td>0.559174</td>\n",
       "      <td>0.775166</td>\n",
       "      <td>High</td>\n",
       "      <td>0.0</td>\n",
       "      <td>ATCG</td>\n",
       "    </tr>\n",
       "    <tr>\n",
       "      <th>73</th>\n",
       "      <td>OTU_6</td>\n",
       "      <td>0.028074</td>\n",
       "      <td>-0.709085</td>\n",
       "      <td>0.771662</td>\n",
       "      <td>Low</td>\n",
       "      <td>0.0</td>\n",
       "      <td>ATCG</td>\n",
       "    </tr>\n",
       "    <tr>\n",
       "      <th>52</th>\n",
       "      <td>OTU_30</td>\n",
       "      <td>0.007772</td>\n",
       "      <td>0.565820</td>\n",
       "      <td>0.758244</td>\n",
       "      <td>High</td>\n",
       "      <td>0.0</td>\n",
       "      <td>ATCG</td>\n",
       "    </tr>\n",
       "    <tr>\n",
       "      <th>59</th>\n",
       "      <td>OTU_38</td>\n",
       "      <td>0.013471</td>\n",
       "      <td>-0.441952</td>\n",
       "      <td>0.756098</td>\n",
       "      <td>Low</td>\n",
       "      <td>0.0</td>\n",
       "      <td>ATCG</td>\n",
       "    </tr>\n",
       "    <tr>\n",
       "      <th>67</th>\n",
       "      <td>OTU_534</td>\n",
       "      <td>0.030258</td>\n",
       "      <td>0.709439</td>\n",
       "      <td>0.755964</td>\n",
       "      <td>High</td>\n",
       "      <td>0.0</td>\n",
       "      <td>ATCG</td>\n",
       "    </tr>\n",
       "    <tr>\n",
       "      <th>49</th>\n",
       "      <td>OTU_29</td>\n",
       "      <td>0.016137</td>\n",
       "      <td>0.662435</td>\n",
       "      <td>0.754200</td>\n",
       "      <td>High</td>\n",
       "      <td>0.0</td>\n",
       "      <td>ATCG</td>\n",
       "    </tr>\n",
       "  </tbody>\n",
       "</table>\n",
       "</div>"
      ],
      "text/plain": [
       "       Taxa  RF Importance  NN Importance   IS stat IS Site Label  IS P value  \\\n",
       "68   OTU_55       0.039361      -1.000000  0.825024           Low         0.0   \n",
       "10   OTU_12       1.000000      -0.815272  0.806841           Low         0.0   \n",
       "44   OTU_24       0.102633       0.434487  0.781167          High         0.0   \n",
       "40   OTU_23       0.028924      -0.453467  0.776977           Low         0.0   \n",
       "21   OTU_16       0.026946       0.559174  0.775166          High         0.0   \n",
       "73    OTU_6       0.028074      -0.709085  0.771662           Low         0.0   \n",
       "52   OTU_30       0.007772       0.565820  0.758244          High         0.0   \n",
       "59   OTU_38       0.013471      -0.441952  0.756098           Low         0.0   \n",
       "67  OTU_534       0.030258       0.709439  0.755964          High         0.0   \n",
       "49   OTU_29       0.016137       0.662435  0.754200          High         0.0   \n",
       "\n",
       "   Rep. Sequences  \n",
       "68           ATCG  \n",
       "10           ATCG  \n",
       "44           ATCG  \n",
       "40           ATCG  \n",
       "21           ATCG  \n",
       "73           ATCG  \n",
       "52           ATCG  \n",
       "59           ATCG  \n",
       "67           ATCG  \n",
       "49           ATCG  "
      ]
     },
     "execution_count": 6,
     "metadata": {},
     "output_type": "execute_result"
    }
   ],
   "source": [
    "FS_results.head(10)"
   ]
  },
  {
   "cell_type": "markdown",
   "metadata": {},
   "source": [
    "Feature selection values determined by the neural network and random forest are scaled from 0 to 1.\n",
    "\n",
    "Feature Selection results generally agree across methods, and correlations determined by the neural network (sign of feature importance) matches perfectly with Indicator Species site labels (Low or High) \n",
    "\n",
    "The feature selection table can be saved to a .csv file by calling the .to_csv() method \n",
    "\n",
    "FS_results.to_csv('myFeatureSelectionResults.csv') "
   ]
  }
 ],
 "metadata": {
  "kernelspec": {
   "display_name": "Python 3",
   "language": "python",
   "name": "python3"
  },
  "language_info": {
   "codemirror_mode": {
    "name": "ipython",
    "version": 3
   },
   "file_extension": ".py",
   "mimetype": "text/x-python",
   "name": "python",
   "nbconvert_exporter": "python",
   "pygments_lexer": "ipython3",
   "version": "3.5.4"
  }
 },
 "nbformat": 4,
 "nbformat_minor": 2
}
