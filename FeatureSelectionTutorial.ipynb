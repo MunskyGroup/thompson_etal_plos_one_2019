{
 "cells": [
  {
   "cell_type": "markdown",
   "metadata": {},
   "source": [
    "# Feature Selection with Random Forest, Neural Network, and Indicator Species analysis "
   ]
  },
  {
   "cell_type": "markdown",
   "metadata": {},
   "source": [
    "To begin, import the Pandas library for importing data and the FeatureSelection class from ML_microbiome: "
   ]
  },
  {
   "cell_type": "code",
   "execution_count": 1,
   "metadata": {},
   "outputs": [],
   "source": [
    "import pandas as pd\n",
    "from RFINN import *"
   ]
  },
  {
   "cell_type": "markdown",
   "metadata": {},
   "source": [
    "Import training, testing, and target data as Pandas DataFrames: "
   ]
  },
  {
   "cell_type": "code",
   "execution_count": 2,
   "metadata": {},
   "outputs": [],
   "source": [
    "train_data = pd.read_csv('train_data.csv')\n",
    "test_data = pd.read_csv('test_data.csv')\n",
    "targets = pd.read_csv('DOC_targets.csv')"
   ]
  },
  {
   "cell_type": "markdown",
   "metadata": {},
   "source": [
    "Create a Feature Selection object by calling the FeatureSelection class"
   ]
  },
  {
   "cell_type": "code",
   "execution_count": 3,
   "metadata": {},
   "outputs": [],
   "source": [
    "FS = FeatureSelection(train_data, test_data, targets, rep_seqs=None)"
   ]
  },
  {
   "cell_type": "markdown",
   "metadata": {},
   "source": [
    "Generate a table with feature selection results by calling the FeatureSelectionTable() function: "
   ]
  },
  {
   "cell_type": "code",
   "execution_count": 4,
   "metadata": {},
   "outputs": [
    {
     "name": "stdout",
     "output_type": "stream",
     "text": [
      "1626\n"
     ]
    }
   ],
   "source": [
    "FS_results = FS.FeatureSelectionTable(iterations=100)"
   ]
  },
  {
   "cell_type": "markdown",
   "metadata": {},
   "source": [
    "Display Feature Selection Results! The table is sorted by the Indicator Species stat by default. "
   ]
  },
  {
   "cell_type": "code",
   "execution_count": 5,
   "metadata": {},
   "outputs": [
    {
     "data": {
      "text/html": [
       "<div>\n",
       "<style scoped>\n",
       "    .dataframe tbody tr th:only-of-type {\n",
       "        vertical-align: middle;\n",
       "    }\n",
       "\n",
       "    .dataframe tbody tr th {\n",
       "        vertical-align: top;\n",
       "    }\n",
       "\n",
       "    .dataframe thead th {\n",
       "        text-align: right;\n",
       "    }\n",
       "</style>\n",
       "<table border=\"1\" class=\"dataframe\">\n",
       "  <thead>\n",
       "    <tr style=\"text-align: right;\">\n",
       "      <th></th>\n",
       "      <th>Taxa</th>\n",
       "      <th>RF Importance</th>\n",
       "      <th>NN Importance</th>\n",
       "      <th>IS stat</th>\n",
       "      <th>IS Site Label</th>\n",
       "      <th>IS P value</th>\n",
       "    </tr>\n",
       "  </thead>\n",
       "  <tbody>\n",
       "    <tr>\n",
       "      <th>70</th>\n",
       "      <td>OTU_55</td>\n",
       "      <td>0.043330</td>\n",
       "      <td>-1.000000</td>\n",
       "      <td>0.825024</td>\n",
       "      <td>Low</td>\n",
       "      <td>0.0</td>\n",
       "    </tr>\n",
       "    <tr>\n",
       "      <th>10</th>\n",
       "      <td>OTU_12</td>\n",
       "      <td>1.000000</td>\n",
       "      <td>-0.778059</td>\n",
       "      <td>0.806841</td>\n",
       "      <td>Low</td>\n",
       "      <td>0.0</td>\n",
       "    </tr>\n",
       "    <tr>\n",
       "      <th>44</th>\n",
       "      <td>OTU_24</td>\n",
       "      <td>0.076988</td>\n",
       "      <td>0.449572</td>\n",
       "      <td>0.781167</td>\n",
       "      <td>High</td>\n",
       "      <td>0.0</td>\n",
       "    </tr>\n",
       "    <tr>\n",
       "      <th>40</th>\n",
       "      <td>OTU_23</td>\n",
       "      <td>0.036704</td>\n",
       "      <td>-0.423010</td>\n",
       "      <td>0.776977</td>\n",
       "      <td>Low</td>\n",
       "      <td>0.0</td>\n",
       "    </tr>\n",
       "    <tr>\n",
       "      <th>23</th>\n",
       "      <td>OTU_16</td>\n",
       "      <td>0.020236</td>\n",
       "      <td>0.530575</td>\n",
       "      <td>0.775166</td>\n",
       "      <td>High</td>\n",
       "      <td>0.0</td>\n",
       "    </tr>\n",
       "    <tr>\n",
       "      <th>75</th>\n",
       "      <td>OTU_6</td>\n",
       "      <td>0.029270</td>\n",
       "      <td>-0.680893</td>\n",
       "      <td>0.771662</td>\n",
       "      <td>Low</td>\n",
       "      <td>0.0</td>\n",
       "    </tr>\n",
       "    <tr>\n",
       "      <th>51</th>\n",
       "      <td>OTU_30</td>\n",
       "      <td>0.006361</td>\n",
       "      <td>0.568634</td>\n",
       "      <td>0.758244</td>\n",
       "      <td>High</td>\n",
       "      <td>0.0</td>\n",
       "    </tr>\n",
       "    <tr>\n",
       "      <th>64</th>\n",
       "      <td>OTU_401</td>\n",
       "      <td>0.017743</td>\n",
       "      <td>-0.328006</td>\n",
       "      <td>0.757483</td>\n",
       "      <td>Low</td>\n",
       "      <td>0.0</td>\n",
       "    </tr>\n",
       "    <tr>\n",
       "      <th>59</th>\n",
       "      <td>OTU_38</td>\n",
       "      <td>0.012563</td>\n",
       "      <td>-0.421251</td>\n",
       "      <td>0.756098</td>\n",
       "      <td>Low</td>\n",
       "      <td>0.0</td>\n",
       "    </tr>\n",
       "    <tr>\n",
       "      <th>69</th>\n",
       "      <td>OTU_534</td>\n",
       "      <td>0.027386</td>\n",
       "      <td>0.718119</td>\n",
       "      <td>0.755964</td>\n",
       "      <td>High</td>\n",
       "      <td>0.0</td>\n",
       "    </tr>\n",
       "  </tbody>\n",
       "</table>\n",
       "</div>"
      ],
      "text/plain": [
       "       Taxa  RF Importance  NN Importance   IS stat IS Site Label  IS P value\n",
       "70   OTU_55       0.043330      -1.000000  0.825024           Low         0.0\n",
       "10   OTU_12       1.000000      -0.778059  0.806841           Low         0.0\n",
       "44   OTU_24       0.076988       0.449572  0.781167          High         0.0\n",
       "40   OTU_23       0.036704      -0.423010  0.776977           Low         0.0\n",
       "23   OTU_16       0.020236       0.530575  0.775166          High         0.0\n",
       "75    OTU_6       0.029270      -0.680893  0.771662           Low         0.0\n",
       "51   OTU_30       0.006361       0.568634  0.758244          High         0.0\n",
       "64  OTU_401       0.017743      -0.328006  0.757483           Low         0.0\n",
       "59   OTU_38       0.012563      -0.421251  0.756098           Low         0.0\n",
       "69  OTU_534       0.027386       0.718119  0.755964          High         0.0"
      ]
     },
     "execution_count": 5,
     "metadata": {},
     "output_type": "execute_result"
    }
   ],
   "source": [
    "FS_results.head(10)"
   ]
  },
  {
   "cell_type": "markdown",
   "metadata": {},
   "source": [
    "Feature selection values determined by the neural network and random forest are scaled from 0 to 1.\n",
    "\n",
    "Feature Selection results generally agree across methods, and correlations determined by the neural network (sign of feature importance) matches perfectly with Indicator Species site labels (Low or High) \n",
    "\n",
    "The feature selection table can be saved to a .csv file by calling the .to_csv() method \n",
    "\n",
    "FS_results.to_csv('myFeatureSelectionResults.csv') "
   ]
  }
 ],
 "metadata": {
  "kernelspec": {
   "display_name": "Python 3",
   "language": "python",
   "name": "python3"
  },
  "language_info": {
   "codemirror_mode": {
    "name": "ipython",
    "version": 3
   },
   "file_extension": ".py",
   "mimetype": "text/x-python",
   "name": "python",
   "nbconvert_exporter": "python",
   "pygments_lexer": "ipython3",
   "version": "3.8.3"
  }
 },
 "nbformat": 4,
 "nbformat_minor": 2
}
