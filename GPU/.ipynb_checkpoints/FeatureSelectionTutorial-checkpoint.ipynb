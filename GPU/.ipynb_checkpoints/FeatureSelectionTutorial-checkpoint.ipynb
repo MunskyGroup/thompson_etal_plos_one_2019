{
 "cells": [
  {
   "cell_type": "markdown",
   "metadata": {},
   "source": [
    "# Feature Selection with Random Forest, Neural Network, and Indicator Species analysis "
   ]
  },
  {
   "cell_type": "markdown",
   "metadata": {},
   "source": [
    "To begin, import the Pandas library for importing data and the FeatureSelection class from ML_microbiome: "
   ]
  },
  {
   "cell_type": "code",
   "execution_count": 1,
   "metadata": {},
   "outputs": [
    {
     "name": "stdout",
     "output_type": "stream",
     "text": [
      "Running with a CPU.  If this is not desired, then the modify network3.py to set\n",
      "the GPU flag to True.\n"
     ]
    }
   ],
   "source": [
    "import pandas as pd\n",
    "from ML_microbiome import FeatureSelection"
   ]
  },
  {
   "cell_type": "markdown",
   "metadata": {},
   "source": [
    "Import training, testing, and target data as Pandas DataFrames: "
   ]
  },
  {
   "cell_type": "code",
   "execution_count": 2,
   "metadata": {},
   "outputs": [],
   "source": [
    "train_data = pd.read_csv('train_data.csv')\n",
    "test_data = pd.read_csv('test_data.csv')\n",
    "targets = pd.read_csv('DOC_targets.csv')"
   ]
  },
  {
   "cell_type": "markdown",
   "metadata": {},
   "source": [
    "Create a Feature Selection object by calling the FeatureSelection class"
   ]
  },
  {
   "cell_type": "code",
   "execution_count": 3,
   "metadata": {},
   "outputs": [],
   "source": [
    "FS = FeatureSelection(train_data, test_data, targets)"
   ]
  },
  {
   "cell_type": "markdown",
   "metadata": {},
   "source": [
    "Generate a table with feature selection results by calling the FeatureSelectionTable() function: "
   ]
  },
  {
   "cell_type": "code",
   "execution_count": 4,
   "metadata": {},
   "outputs": [],
   "source": [
    "FS_results = FS.FeatureSelectionTable()"
   ]
  },
  {
   "cell_type": "markdown",
   "metadata": {},
   "source": [
    "Display Feature Selection Results! The table is sorted by the Indicator Species stat by default. "
   ]
  },
  {
   "cell_type": "code",
   "execution_count": 5,
   "metadata": {},
   "outputs": [
    {
     "data": {
      "text/html": [
       "<div>\n",
       "<style scoped>\n",
       "    .dataframe tbody tr th:only-of-type {\n",
       "        vertical-align: middle;\n",
       "    }\n",
       "\n",
       "    .dataframe tbody tr th {\n",
       "        vertical-align: top;\n",
       "    }\n",
       "\n",
       "    .dataframe thead th {\n",
       "        text-align: right;\n",
       "    }\n",
       "</style>\n",
       "<table border=\"1\" class=\"dataframe\">\n",
       "  <thead>\n",
       "    <tr style=\"text-align: right;\">\n",
       "      <th></th>\n",
       "      <th>OTUs</th>\n",
       "      <th>RF Importance</th>\n",
       "      <th>NN Importance</th>\n",
       "      <th>IS stat</th>\n",
       "      <th>IS Site Label</th>\n",
       "      <th>IS P value</th>\n",
       "    </tr>\n",
       "  </thead>\n",
       "  <tbody>\n",
       "    <tr>\n",
       "      <th>0</th>\n",
       "      <td>OTU_55</td>\n",
       "      <td>0.236959</td>\n",
       "      <td>-1.000000</td>\n",
       "      <td>0.818500</td>\n",
       "      <td>Low</td>\n",
       "      <td>0.005</td>\n",
       "    </tr>\n",
       "    <tr>\n",
       "      <th>1</th>\n",
       "      <td>OTU_12</td>\n",
       "      <td>1.000000</td>\n",
       "      <td>-0.590759</td>\n",
       "      <td>0.801810</td>\n",
       "      <td>Low</td>\n",
       "      <td>0.005</td>\n",
       "    </tr>\n",
       "    <tr>\n",
       "      <th>2</th>\n",
       "      <td>OTU_29</td>\n",
       "      <td>0.050548</td>\n",
       "      <td>0.288376</td>\n",
       "      <td>0.797007</td>\n",
       "      <td>High</td>\n",
       "      <td>0.005</td>\n",
       "    </tr>\n",
       "    <tr>\n",
       "      <th>3</th>\n",
       "      <td>OTU_16</td>\n",
       "      <td>0.035902</td>\n",
       "      <td>0.290578</td>\n",
       "      <td>0.782805</td>\n",
       "      <td>High</td>\n",
       "      <td>0.010</td>\n",
       "    </tr>\n",
       "    <tr>\n",
       "      <th>4</th>\n",
       "      <td>OTU_6</td>\n",
       "      <td>0.019692</td>\n",
       "      <td>-0.760949</td>\n",
       "      <td>0.773715</td>\n",
       "      <td>Low</td>\n",
       "      <td>0.005</td>\n",
       "    </tr>\n",
       "    <tr>\n",
       "      <th>5</th>\n",
       "      <td>OTU_24</td>\n",
       "      <td>0.102752</td>\n",
       "      <td>0.410634</td>\n",
       "      <td>0.769658</td>\n",
       "      <td>High</td>\n",
       "      <td>0.005</td>\n",
       "    </tr>\n",
       "    <tr>\n",
       "      <th>6</th>\n",
       "      <td>OTU_150</td>\n",
       "      <td>0.246421</td>\n",
       "      <td>-0.618907</td>\n",
       "      <td>0.763452</td>\n",
       "      <td>Low</td>\n",
       "      <td>0.005</td>\n",
       "    </tr>\n",
       "    <tr>\n",
       "      <th>7</th>\n",
       "      <td>OTU_23</td>\n",
       "      <td>0.080284</td>\n",
       "      <td>-0.455631</td>\n",
       "      <td>0.756213</td>\n",
       "      <td>Low</td>\n",
       "      <td>0.005</td>\n",
       "    </tr>\n",
       "    <tr>\n",
       "      <th>8</th>\n",
       "      <td>OTU_38</td>\n",
       "      <td>0.028971</td>\n",
       "      <td>-0.610424</td>\n",
       "      <td>0.755070</td>\n",
       "      <td>Low</td>\n",
       "      <td>0.005</td>\n",
       "    </tr>\n",
       "    <tr>\n",
       "      <th>9</th>\n",
       "      <td>OTU_30</td>\n",
       "      <td>0.012893</td>\n",
       "      <td>0.315501</td>\n",
       "      <td>0.749982</td>\n",
       "      <td>High</td>\n",
       "      <td>0.005</td>\n",
       "    </tr>\n",
       "  </tbody>\n",
       "</table>\n",
       "</div>"
      ],
      "text/plain": [
       "      OTUs  RF Importance  NN Importance   IS stat IS Site Label  IS P value\n",
       "0   OTU_55       0.236959      -1.000000  0.818500           Low       0.005\n",
       "1   OTU_12       1.000000      -0.590759  0.801810           Low       0.005\n",
       "2   OTU_29       0.050548       0.288376  0.797007          High       0.005\n",
       "3   OTU_16       0.035902       0.290578  0.782805          High       0.010\n",
       "4    OTU_6       0.019692      -0.760949  0.773715           Low       0.005\n",
       "5   OTU_24       0.102752       0.410634  0.769658          High       0.005\n",
       "6  OTU_150       0.246421      -0.618907  0.763452           Low       0.005\n",
       "7   OTU_23       0.080284      -0.455631  0.756213           Low       0.005\n",
       "8   OTU_38       0.028971      -0.610424  0.755070           Low       0.005\n",
       "9   OTU_30       0.012893       0.315501  0.749982          High       0.005"
      ]
     },
     "execution_count": 5,
     "metadata": {},
     "output_type": "execute_result"
    }
   ],
   "source": [
    "FS_results.head(10)"
   ]
  },
  {
   "cell_type": "markdown",
   "metadata": {},
   "source": [
    "Feature selection values determined by the neural network and random forest are scaled from 0 to 1.\n",
    "\n",
    "Feature Selection results generally agree across methods, and correlations determined by the neural network (sign of feature importance) matches perfectly with Indicator Species site labels (Low or High) \n",
    "\n",
    "The feature selection table can be saved to a .csv file by calling the .to_csv() method \n",
    "\n",
    "FS_results.to_csv('myFeatureSelectionResults.csv') "
   ]
  }
 ],
 "metadata": {
  "kernelspec": {
   "display_name": "Python 3",
   "language": "python",
   "name": "python3"
  },
  "language_info": {
   "codemirror_mode": {
    "name": "ipython",
    "version": 3
   },
   "file_extension": ".py",
   "mimetype": "text/x-python",
   "name": "python",
   "nbconvert_exporter": "python",
   "pygments_lexer": "ipython3",
   "version": "3.5.6"
  }
 },
 "nbformat": 4,
 "nbformat_minor": 2
}
